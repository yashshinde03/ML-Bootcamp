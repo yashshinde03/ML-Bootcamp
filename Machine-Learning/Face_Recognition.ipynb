{
  "nbformat": 4,
  "nbformat_minor": 0,
  "metadata": {
    "colab": {
      "name": "Face_Recognition.ipynb",
      "provenance": []
    },
    "kernelspec": {
      "name": "python3",
      "display_name": "Python 3"
    },
    "language_info": {
      "name": "python"
    },
    "accelerator": "GPU",
    "gpuClass": "standard"
  },
  "cells": [
    {
      "cell_type": "code",
      "execution_count": 1,
      "metadata": {
        "colab": {
          "base_uri": "https://localhost:8080/"
        },
        "id": "KA4gpwLmyHrl",
        "outputId": "3ad6c205-8452-4b10-fb4e-d713d06c26d0"
      },
      "outputs": [
        {
          "output_type": "stream",
          "name": "stdout",
          "text": [
            "--2022-08-12 11:25:18--  https://www.dropbox.com/s/si11cws2pyho1bp/archive.zip\n",
            "Resolving www.dropbox.com (www.dropbox.com)... 162.125.1.18, 2620:100:6016:18::a27d:112\n",
            "Connecting to www.dropbox.com (www.dropbox.com)|162.125.1.18|:443... connected.\n",
            "HTTP request sent, awaiting response... 301 Moved Permanently\n",
            "Location: /s/raw/si11cws2pyho1bp/archive.zip [following]\n",
            "--2022-08-12 11:25:19--  https://www.dropbox.com/s/raw/si11cws2pyho1bp/archive.zip\n",
            "Reusing existing connection to www.dropbox.com:443.\n",
            "HTTP request sent, awaiting response... 302 Found\n",
            "Location: https://uc0a683694711e6e055d6706354e.dl.dropboxusercontent.com/cd/0/inline/Bq0YBaLUJHXPnrzfEQcQW7Ho6trru644LYfWmkUXSX01Nv3VlutBltVvGhAAOpM2as1VLGy6sPD78aSWQl88yZHfCJ3Nhplp6r6hLrmoqQo_3fO0xvqGIaxgLuCALSO1iafynGxDMn-AREAHSVADK9QZnqa4x87yuVpATXS3MfsrAg/file# [following]\n",
            "--2022-08-12 11:25:19--  https://uc0a683694711e6e055d6706354e.dl.dropboxusercontent.com/cd/0/inline/Bq0YBaLUJHXPnrzfEQcQW7Ho6trru644LYfWmkUXSX01Nv3VlutBltVvGhAAOpM2as1VLGy6sPD78aSWQl88yZHfCJ3Nhplp6r6hLrmoqQo_3fO0xvqGIaxgLuCALSO1iafynGxDMn-AREAHSVADK9QZnqa4x87yuVpATXS3MfsrAg/file\n",
            "Resolving uc0a683694711e6e055d6706354e.dl.dropboxusercontent.com (uc0a683694711e6e055d6706354e.dl.dropboxusercontent.com)... 162.125.1.15, 2620:100:6016:15::a27d:10f\n",
            "Connecting to uc0a683694711e6e055d6706354e.dl.dropboxusercontent.com (uc0a683694711e6e055d6706354e.dl.dropboxusercontent.com)|162.125.1.15|:443... connected.\n",
            "HTTP request sent, awaiting response... 302 Found\n",
            "Location: /cd/0/inline2/Bq1-GyzNExTLUdpPDn8bGF9B10ECJLfWAw4ENlyc4o7BXmkAKhJOu_PYgAqaO2r9xBkdNstce10iata21ZVwM0xBIR1Fv0q7lJnFTjiMRxUHpPt45Ips9iYvpyDQWTZShHpno6vs_g804BsftJkftTN3FLqzkycsspY55dpcTy_TmmxfPCEgPyAfzs9jcTbWnkSI7eTqumWJ0B16m4DjqIt0Sb_1j7F7zWCkoqbDEvYdBbTr223jQUiAZmd1HlRpjMtmy1-YDJ6gak0_q0N8Ornuk5rB6_Q_vV962F4lZE2gsEphpgriGeqc_UgZRQEpFzZs99lOpNI40sHYqZorsFTUuDuA_R-6dfOh7qwC-1A_hChww_t2bbIj36xL1kqys-BQ46XSR4WOyCSpl3CeYIjJWJd6uBxR1OhuSEbCYgbXFw/file [following]\n",
            "--2022-08-12 11:25:19--  https://uc0a683694711e6e055d6706354e.dl.dropboxusercontent.com/cd/0/inline2/Bq1-GyzNExTLUdpPDn8bGF9B10ECJLfWAw4ENlyc4o7BXmkAKhJOu_PYgAqaO2r9xBkdNstce10iata21ZVwM0xBIR1Fv0q7lJnFTjiMRxUHpPt45Ips9iYvpyDQWTZShHpno6vs_g804BsftJkftTN3FLqzkycsspY55dpcTy_TmmxfPCEgPyAfzs9jcTbWnkSI7eTqumWJ0B16m4DjqIt0Sb_1j7F7zWCkoqbDEvYdBbTr223jQUiAZmd1HlRpjMtmy1-YDJ6gak0_q0N8Ornuk5rB6_Q_vV962F4lZE2gsEphpgriGeqc_UgZRQEpFzZs99lOpNI40sHYqZorsFTUuDuA_R-6dfOh7qwC-1A_hChww_t2bbIj36xL1kqys-BQ46XSR4WOyCSpl3CeYIjJWJd6uBxR1OhuSEbCYgbXFw/file\n",
            "Reusing existing connection to uc0a683694711e6e055d6706354e.dl.dropboxusercontent.com:443.\n",
            "HTTP request sent, awaiting response... 200 OK\n",
            "Length: 63252113 (60M) [application/zip]\n",
            "Saving to: ‘archive.zip’\n",
            "\n",
            "archive.zip         100%[===================>]  60.32M   168MB/s    in 0.4s    \n",
            "\n",
            "2022-08-12 11:25:20 (168 MB/s) - ‘archive.zip’ saved [63252113/63252113]\n",
            "\n"
          ]
        }
      ],
      "source": [
        "!wget https://www.dropbox.com/s/si11cws2pyho1bp/archive.zip"
      ]
    },
    {
      "cell_type": "code",
      "source": [
        "!unzip -q \"/content/archive.zip\""
      ],
      "metadata": {
        "id": "tNURqjkm2AMt"
      },
      "execution_count": 2,
      "outputs": []
    },
    {
      "cell_type": "code",
      "source": [
        "# Imports required for this project\n",
        "import tensorflow as tf\n",
        "import numpy as np\n",
        "import matplotlib.pyplot as plt\n",
        "from pathlib import Path\n",
        "\n",
        "tf.random.set_seed(4)"
      ],
      "metadata": {
        "id": "wrkZYlVOL_mJ"
      },
      "execution_count": 3,
      "outputs": []
    },
    {
      "cell_type": "code",
      "source": [
        "# Creating the Pathlib PATH objects\n",
        "train_path = Path(\"/content/train\")\n",
        "test_path = Path(\"/content/test\")"
      ],
      "metadata": {
        "id": "q1IkBYdKMDpO"
      },
      "execution_count": 4,
      "outputs": []
    },
    {
      "cell_type": "code",
      "source": [
        "# Getting Image paths \n",
        "train_image_paths = list(train_path.glob(\"*/*\"))\n",
        "train_image_paths = list(map(lambda x : str(x) , train_image_paths))\n",
        "\n",
        "train_image_paths[:10]"
      ],
      "metadata": {
        "colab": {
          "base_uri": "https://localhost:8080/"
        },
        "id": "a-kASEG2MGZv",
        "outputId": "5c7e1535-c9f6-4d0f-bd5a-bb5c362794d9"
      },
      "execution_count": 5,
      "outputs": [
        {
          "output_type": "execute_result",
          "data": {
            "text/plain": [
              "['/content/train/angry/Training_19295001.jpg',\n",
              " '/content/train/angry/Training_55643022.jpg',\n",
              " '/content/train/angry/Training_51566202.jpg',\n",
              " '/content/train/angry/Training_17608684.jpg',\n",
              " '/content/train/angry/Training_45711634.jpg',\n",
              " '/content/train/angry/Training_27679753.jpg',\n",
              " '/content/train/angry/Training_3695371.jpg',\n",
              " '/content/train/angry/Training_68212547.jpg',\n",
              " '/content/train/angry/Training_16585392.jpg',\n",
              " '/content/train/angry/Training_27072144.jpg']"
            ]
          },
          "metadata": {},
          "execution_count": 5
        }
      ]
    },
    {
      "cell_type": "code",
      "source": [
        "# Getting their respective labels \n",
        "\n",
        "def get_label(image_path):\n",
        "    return image_path.split(\"/\")[-2]\n",
        "\n",
        "train_image_labels = list(map(lambda x : get_label(x) , train_image_paths))\n",
        "train_image_labels[:10]"
      ],
      "metadata": {
        "colab": {
          "base_uri": "https://localhost:8080/"
        },
        "id": "x6w9BJrCO3c2",
        "outputId": "a5c482a3-65f3-4633-8c78-ec90833e01cb"
      },
      "execution_count": 6,
      "outputs": [
        {
          "output_type": "execute_result",
          "data": {
            "text/plain": [
              "['angry',\n",
              " 'angry',\n",
              " 'angry',\n",
              " 'angry',\n",
              " 'angry',\n",
              " 'angry',\n",
              " 'angry',\n",
              " 'angry',\n",
              " 'angry',\n",
              " 'angry']"
            ]
          },
          "metadata": {},
          "execution_count": 6
        }
      ]
    },
    {
      "cell_type": "code",
      "source": [
        "from sklearn.preprocessing import LabelEncoder \n",
        "\n",
        "Le = LabelEncoder()\n",
        "train_image_labels = Le.fit_transform(train_image_labels)\n",
        "\n",
        "train_image_labels[:10]"
      ],
      "metadata": {
        "colab": {
          "base_uri": "https://localhost:8080/"
        },
        "id": "yLtpxq6uTKu3",
        "outputId": "174f81a6-8b24-407c-c283-186dda681a21"
      },
      "execution_count": 7,
      "outputs": [
        {
          "output_type": "execute_result",
          "data": {
            "text/plain": [
              "array([0, 0, 0, 0, 0, 0, 0, 0, 0, 0])"
            ]
          },
          "metadata": {},
          "execution_count": 7
        }
      ]
    },
    {
      "cell_type": "code",
      "source": [
        "train_image_labels = tf.keras.utils.to_categorical(train_image_labels)\n",
        "\n",
        "train_image_labels[:10]"
      ],
      "metadata": {
        "colab": {
          "base_uri": "https://localhost:8080/"
        },
        "id": "h3TowkqChIez",
        "outputId": "55e1dd43-7b54-48e6-fa3a-5da019823173"
      },
      "execution_count": 8,
      "outputs": [
        {
          "output_type": "execute_result",
          "data": {
            "text/plain": [
              "array([[1., 0., 0., 0., 0., 0., 0.],\n",
              "       [1., 0., 0., 0., 0., 0., 0.],\n",
              "       [1., 0., 0., 0., 0., 0., 0.],\n",
              "       [1., 0., 0., 0., 0., 0., 0.],\n",
              "       [1., 0., 0., 0., 0., 0., 0.],\n",
              "       [1., 0., 0., 0., 0., 0., 0.],\n",
              "       [1., 0., 0., 0., 0., 0., 0.],\n",
              "       [1., 0., 0., 0., 0., 0., 0.],\n",
              "       [1., 0., 0., 0., 0., 0., 0.],\n",
              "       [1., 0., 0., 0., 0., 0., 0.]], dtype=float32)"
            ]
          },
          "metadata": {},
          "execution_count": 8
        }
      ]
    },
    {
      "cell_type": "code",
      "source": [
        "from sklearn.model_selection import train_test_split \n",
        "\n",
        "Train_paths , Val_paths , Train_labels , Val_labels = train_test_split(train_image_paths , train_image_labels , test_size = 0.25)"
      ],
      "metadata": {
        "id": "6WJDuAY2isyj"
      },
      "execution_count": 9,
      "outputs": []
    },
    {
      "cell_type": "code",
      "source": [
        "# Compute class weights \n",
        "\n",
        "classTotals = Train_labels.sum(axis=0)\n",
        "classWeight = classTotals.max() / classTotals\n",
        "\n",
        "class_weight = {e : weight for e , weight in enumerate(classWeight)}\n",
        "print(class_weight)"
      ],
      "metadata": {
        "colab": {
          "base_uri": "https://localhost:8080/"
        },
        "id": "_3JO8olwiu_1",
        "outputId": "b8a7cab2-6d2c-4767-afaa-bed7e2989e8d"
      },
      "execution_count": 10,
      "outputs": [
        {
          "output_type": "stream",
          "name": "stdout",
          "text": [
            "{0: 1.828868, 1: 16.204748, 2: 1.8124793, 3: 1.0, 4: 1.4703823, 5: 1.5035793, 6: 2.286851}\n"
          ]
        }
      ]
    },
    {
      "cell_type": "code",
      "source": [
        "# Function used for Transformation\n",
        "\n",
        "def load(image , label):\n",
        "    image = tf.io.read_file(image)\n",
        "    image = tf.io.decode_jpeg(image , channels = 3)\n",
        "    return image , label"
      ],
      "metadata": {
        "id": "tO1PQ0a1jRas"
      },
      "execution_count": 11,
      "outputs": []
    },
    {
      "cell_type": "code",
      "source": [
        "# Define IMAGE SIZE and BATCH SIZE \n",
        "IMG_SIZE = 96 \n",
        "BATCH_SIZE = 32\n",
        "\n",
        "# Basic Transformation\n",
        "resize = tf.keras.Sequential([\n",
        "    tf.keras.layers.experimental.preprocessing.Resizing(IMG_SIZE, IMG_SIZE)          \n",
        "])\n",
        "\n",
        "# Data Augmentation\n",
        "data_augmentation = tf.keras.Sequential([\n",
        "    tf.keras.layers.experimental.preprocessing.RandomFlip(\"horizontal\"),\n",
        "    tf.keras.layers.experimental.preprocessing.RandomRotation(0.1),\n",
        "    tf.keras.layers.experimental.preprocessing.RandomZoom(height_factor = (-0.1, -0.05))\n",
        "])"
      ],
      "metadata": {
        "id": "BMUHoVT2mkTy"
      },
      "execution_count": 12,
      "outputs": []
    },
    {
      "cell_type": "code",
      "source": [
        "# Function used to Create a Tensorflow Data Object\n",
        "AUTOTUNE = tf.data.experimental.AUTOTUNE\n",
        "def get_dataset(paths , labels , train = True):\n",
        "    image_paths = tf.convert_to_tensor(paths)\n",
        "    labels = tf.convert_to_tensor(labels)\n",
        "\n",
        "    image_dataset = tf.data.Dataset.from_tensor_slices(image_paths)\n",
        "    label_dataset = tf.data.Dataset.from_tensor_slices(labels)\n",
        "\n",
        "    dataset = tf.data.Dataset.zip((image_dataset , label_dataset))\n",
        "\n",
        "    dataset = dataset.map(lambda image , label : load(image , label))\n",
        "    dataset = dataset.map(lambda image, label: (resize(image), label) , num_parallel_calls=AUTOTUNE)\n",
        "    dataset = dataset.shuffle(1000)\n",
        "    dataset = dataset.batch(BATCH_SIZE)\n",
        "\n",
        "    if train:\n",
        "        dataset = dataset.map(lambda image, label: (data_augmentation(image), label) , num_parallel_calls=AUTOTUNE)\n",
        "    \n",
        "    dataset = dataset.repeat()\n",
        "    return dataset"
      ],
      "metadata": {
        "id": "CVJAgC3Up3ag"
      },
      "execution_count": 13,
      "outputs": []
    },
    {
      "cell_type": "code",
      "source": [
        "%time train_dataset = get_dataset(Train_paths , Train_labels)\n",
        "\n",
        "image , label = next(iter(train_dataset))\n",
        "print(image.shape)\n",
        "print(label.shape)"
      ],
      "metadata": {
        "colab": {
          "base_uri": "https://localhost:8080/"
        },
        "id": "h7HPL1tmwBD8",
        "outputId": "3cb56fca-2564-4a23-cbd3-d131fc46b9a4"
      },
      "execution_count": 14,
      "outputs": [
        {
          "output_type": "stream",
          "name": "stdout",
          "text": [
            "CPU times: user 1.05 s, sys: 30.9 ms, total: 1.08 s\n",
            "Wall time: 2.01 s\n",
            "(32, 96, 96, 3)\n",
            "(32, 7)\n"
          ]
        }
      ]
    },
    {
      "cell_type": "code",
      "source": [
        "# View a sample Training Image\n",
        "print(Le.inverse_transform(np.argmax(label , axis = 1))[0])\n",
        "plt.imshow((image[0].numpy()/255).reshape(96 , 96 , 3))"
      ],
      "metadata": {
        "colab": {
          "base_uri": "https://localhost:8080/",
          "height": 303
        },
        "id": "cZYcTgO9xHLa",
        "outputId": "44b9ec3d-9e09-426e-8f1a-23029c7173c4"
      },
      "execution_count": 15,
      "outputs": [
        {
          "output_type": "stream",
          "name": "stdout",
          "text": [
            "fear\n"
          ]
        },
        {
          "output_type": "execute_result",
          "data": {
            "text/plain": [
              "<matplotlib.image.AxesImage at 0x7efd4d03f110>"
            ]
          },
          "metadata": {},
          "execution_count": 15
        },
        {
          "output_type": "display_data",
          "data": {
            "text/plain": [
              "<Figure size 432x288 with 1 Axes>"
            ],
            "image/png": "[encoded data removed]"
          },
          "metadata": {
            "needs_background": "light"
          }
        }
      ]
    },
    {
      "cell_type": "code",
      "source": [
        "%time val_dataset = get_dataset(Val_paths , Val_labels , train = False)\n",
        "\n",
        "image , label = next(iter(val_dataset))\n",
        "print(image.shape)\n",
        "print(label.shape)"
      ],
      "metadata": {
        "colab": {
          "base_uri": "https://localhost:8080/"
        },
        "id": "6lMMYL6rx4O1",
        "outputId": "2016c5f7-bf5e-404b-92fd-2a2769fd0c7f"
      },
      "execution_count": 16,
      "outputs": [
        {
          "output_type": "stream",
          "name": "stdout",
          "text": [
            "CPU times: user 30.4 ms, sys: 1.86 ms, total: 32.3 ms\n",
            "Wall time: 36.6 ms\n",
            "(32, 96, 96, 3)\n",
            "(32, 7)\n"
          ]
        }
      ]
    },
    {
      "cell_type": "code",
      "source": [
        "# Building EfficientNet model\n",
        "from tensorflow.keras.applications import EfficientNetB2\n",
        "\n",
        "backbone = EfficientNetB2(\n",
        "    input_shape=(96, 96, 3),\n",
        "    include_top=False\n",
        ")\n",
        "\n",
        "model = tf.keras.Sequential([\n",
        "    backbone,\n",
        "    tf.keras.layers.GlobalAveragePooling2D(),\n",
        "    tf.keras.layers.Dropout(0.3),\n",
        "    tf.keras.layers.Dense(128, activation='relu'),\n",
        "    tf.keras.layers.Dense(7, activation='softmax')\n",
        "])\n",
        "\n",
        "model.summary()"
      ],
      "metadata": {
        "colab": {
          "base_uri": "https://localhost:8080/"
        },
        "id": "EeMTqkv8ytpn",
        "outputId": "07ed7277-e266-4c9e-a72d-d01f7aed4cda"
      },
      "execution_count": 17,
      "outputs": [
        {
          "output_type": "stream",
          "name": "stdout",
          "text": [
            "Downloading data from https://storage.googleapis.com/keras-applications/efficientnetb2_notop.h5\n",
            "31793152/31790344 [==============================] - 0s 0us/step\n",
            "31801344/31790344 [==============================] - 0s 0us/step\n",
            "Model: \"sequential_2\"\n",
            "_________________________________________________________________\n",
            " Layer (type)                Output Shape              Param #   \n",
            "=================================================================\n",
            " efficientnetb2 (Functional)  (None, 3, 3, 1408)       7768569   \n",
            "                                                                 \n",
            " global_average_pooling2d (G  (None, 1408)             0         \n",
            " lobalAveragePooling2D)                                          \n",
            "                                                                 \n",
            " dropout (Dropout)           (None, 1408)              0         \n",
            "                                                                 \n",
            " dense (Dense)               (None, 128)               180352    \n",
            "                                                                 \n",
            " dense_1 (Dense)             (None, 7)                 903       \n",
            "                                                                 \n",
            "=================================================================\n",
            "Total params: 7,949,824\n",
            "Trainable params: 7,882,249\n",
            "Non-trainable params: 67,575\n",
            "_________________________________________________________________\n"
          ]
        }
      ]
    },
    {
      "cell_type": "code",
      "source": [
        "# Compiling your model by providing the Optimizer , Loss and Metrics\n",
        "model.compile(\n",
        "    optimizer=tf.keras.optimizers.Adam(learning_rate=0.001, beta_1=0.9, beta_2=0.999, epsilon=1e-07),\n",
        "    loss = 'categorical_crossentropy',\n",
        "    metrics=['accuracy' , tf.keras.metrics.Precision(name='precision'),tf.keras.metrics.Recall(name='recall')]\n",
        ")"
      ],
      "metadata": {
        "id": "QcF5naE6zIrJ"
      },
      "execution_count": 18,
      "outputs": []
    },
    {
      "cell_type": "code",
      "source": [
        "# Train the model\n",
        "history = model.fit(\n",
        "    train_dataset,\n",
        "    steps_per_epoch=len(Train_paths)//BATCH_SIZE,\n",
        "    epochs=12,\n",
        "    validation_data=val_dataset,\n",
        "    validation_steps = len(Val_paths)//BATCH_SIZE,\n",
        "    class_weight=class_weight\n",
        ")"
      ],
      "metadata": {
        "colab": {
          "base_uri": "https://localhost:8080/"
        },
        "id": "MDKt_K1_zMsY",
        "outputId": "acd7053c-d958-4bf7-9644-1cd5ae8c592a"
      },
      "execution_count": 19,
      "outputs": [
        {
          "output_type": "stream",
          "name": "stdout",
          "text": [
            "Epoch 1/12\n",
            "672/672 [==============================] - 121s 141ms/step - loss: 2.8348 - accuracy: 0.4012 - precision: 0.6655 - recall: 0.1881 - val_loss: 1.3417 - val_accuracy: 0.5057 - val_precision: 0.6934 - val_recall: 0.3124\n",
            "Epoch 2/12\n",
            "672/672 [==============================] - 95s 140ms/step - loss: 2.3867 - accuracy: 0.4990 - precision: 0.6928 - recall: 0.2914 - val_loss: 1.2846 - val_accuracy: 0.5120 - val_precision: 0.6558 - val_recall: 0.3612\n",
            "Epoch 3/12\n",
            "672/672 [==============================] - 94s 140ms/step - loss: 2.2136 - accuracy: 0.5292 - precision: 0.7077 - recall: 0.3325 - val_loss: 1.2940 - val_accuracy: 0.5156 - val_precision: 0.6893 - val_recall: 0.3266\n",
            "Epoch 4/12\n",
            "672/672 [==============================] - 93s 139ms/step - loss: 2.1328 - accuracy: 0.5462 - precision: 0.7184 - recall: 0.3558 - val_loss: 1.2407 - val_accuracy: 0.5466 - val_precision: 0.7165 - val_recall: 0.3719\n",
            "Epoch 5/12\n",
            "672/672 [==============================] - 93s 138ms/step - loss: 2.0150 - accuracy: 0.5687 - precision: 0.7236 - recall: 0.3938 - val_loss: 1.1907 - val_accuracy: 0.5557 - val_precision: 0.6868 - val_recall: 0.4160\n",
            "Epoch 6/12\n",
            "672/672 [==============================] - 94s 140ms/step - loss: 1.9815 - accuracy: 0.5669 - precision: 0.7228 - recall: 0.3965 - val_loss: 1.2203 - val_accuracy: 0.5575 - val_precision: 0.6977 - val_recall: 0.4072\n",
            "Epoch 7/12\n",
            "672/672 [==============================] - 94s 140ms/step - loss: 1.8937 - accuracy: 0.5867 - precision: 0.7329 - recall: 0.4264 - val_loss: 1.2241 - val_accuracy: 0.5536 - val_precision: 0.6791 - val_recall: 0.4252\n",
            "Epoch 8/12\n",
            "672/672 [==============================] - 94s 139ms/step - loss: 1.8304 - accuracy: 0.6004 - precision: 0.7302 - recall: 0.4476 - val_loss: 1.2149 - val_accuracy: 0.5407 - val_precision: 0.6450 - val_recall: 0.4268\n",
            "Epoch 9/12\n",
            "672/672 [==============================] - 94s 139ms/step - loss: 1.7941 - accuracy: 0.6066 - precision: 0.7439 - recall: 0.4544 - val_loss: 1.1070 - val_accuracy: 0.5882 - val_precision: 0.6966 - val_recall: 0.4770\n",
            "Epoch 10/12\n",
            "672/672 [==============================] - 93s 139ms/step - loss: 1.7976 - accuracy: 0.6060 - precision: 0.7384 - recall: 0.4565 - val_loss: 1.1109 - val_accuracy: 0.5878 - val_precision: 0.7263 - val_recall: 0.4450\n",
            "Epoch 11/12\n",
            "672/672 [==============================] - 95s 142ms/step - loss: 1.7398 - accuracy: 0.6199 - precision: 0.7413 - recall: 0.4743 - val_loss: 1.2680 - val_accuracy: 0.5336 - val_precision: 0.6407 - val_recall: 0.4129\n",
            "Epoch 12/12\n",
            "672/672 [==============================] - 95s 141ms/step - loss: 1.6758 - accuracy: 0.6289 - precision: 0.7532 - recall: 0.4942 - val_loss: 1.0958 - val_accuracy: 0.5946 - val_precision: 0.7110 - val_recall: 0.4777\n"
          ]
        }
      ]
    },
    {
      "cell_type": "code",
      "source": [
        "model.layers[0].trainable = False\n"
      ],
      "metadata": {
        "id": "pQBMB2zN8yRC"
      },
      "execution_count": 20,
      "outputs": []
    },
    {
      "cell_type": "code",
      "source": [
        "# Defining our callbacks \n",
        "checkpoint = tf.keras.callbacks.ModelCheckpoint(\"best_weights.h5\",verbose=1,save_best_only=True,save_weights_only = True)\n",
        "early_stop = tf.keras.callbacks.EarlyStopping(patience=4)"
      ],
      "metadata": {
        "id": "6-2kdBGb93Fy"
      },
      "execution_count": 21,
      "outputs": []
    },
    {
      "cell_type": "code",
      "source": [
        "model.summary()"
      ],
      "metadata": {
        "colab": {
          "base_uri": "https://localhost:8080/"
        },
        "id": "WQe04nZsBw9l",
        "outputId": "2e8e8707-f372-41bc-9f3d-35977593c0ee"
      },
      "execution_count": 22,
      "outputs": [
        {
          "output_type": "stream",
          "name": "stdout",
          "text": [
            "Model: \"sequential_2\"\n",
            "_________________________________________________________________\n",
            " Layer (type)                Output Shape              Param #   \n",
            "=================================================================\n",
            " efficientnetb2 (Functional)  (None, 3, 3, 1408)       7768569   \n",
            "                                                                 \n",
            " global_average_pooling2d (G  (None, 1408)             0         \n",
            " lobalAveragePooling2D)                                          \n",
            "                                                                 \n",
            " dropout (Dropout)           (None, 1408)              0         \n",
            "                                                                 \n",
            " dense (Dense)               (None, 128)               180352    \n",
            "                                                                 \n",
            " dense_1 (Dense)             (None, 7)                 903       \n",
            "                                                                 \n",
            "=================================================================\n",
            "Total params: 7,949,824\n",
            "Trainable params: 181,255\n",
            "Non-trainable params: 7,768,569\n",
            "_________________________________________________________________\n"
          ]
        }
      ]
    },
    {
      "cell_type": "code",
      "source": [
        "# Train the model\n",
        "history = model.fit(\n",
        "    train_dataset,\n",
        "    steps_per_epoch=len(Train_paths)//BATCH_SIZE,\n",
        "    epochs=8,\n",
        "    callbacks=[checkpoint , early_stop],\n",
        "    validation_data=val_dataset,\n",
        "    validation_steps = len(Val_paths)//BATCH_SIZE,\n",
        "    class_weight=class_weight\n",
        ")"
      ],
      "metadata": {
        "colab": {
          "base_uri": "https://localhost:8080/"
        },
        "id": "S7r1DXbjDCCq",
        "outputId": "93a6ba15-e747-4b1b-90a3-054170254e51"
      },
      "execution_count": 23,
      "outputs": [
        {
          "output_type": "stream",
          "name": "stdout",
          "text": [
            "Epoch 1/8\n",
            "672/672 [==============================] - ETA: 0s - loss: 1.6407 - accuracy: 0.6402 - precision: 0.7531 - recall: 0.5091\n",
            "Epoch 1: val_loss improved from inf to 1.12919, saving model to best_weights.h5\n",
            "672/672 [==============================] - 97s 143ms/step - loss: 1.6407 - accuracy: 0.6402 - precision: 0.7531 - recall: 0.5091 - val_loss: 1.1292 - val_accuracy: 0.5830 - val_precision: 0.6792 - val_recall: 0.4852\n",
            "Epoch 2/8\n",
            "672/672 [==============================] - ETA: 0s - loss: 1.6152 - accuracy: 0.6445 - precision: 0.7549 - recall: 0.5146\n",
            "Epoch 2: val_loss improved from 1.12919 to 1.09366, saving model to best_weights.h5\n",
            "672/672 [==============================] - 95s 141ms/step - loss: 1.6152 - accuracy: 0.6445 - precision: 0.7549 - recall: 0.5146 - val_loss: 1.0937 - val_accuracy: 0.6044 - val_precision: 0.7105 - val_recall: 0.4887\n",
            "Epoch 3/8\n",
            "672/672 [==============================] - ETA: 0s - loss: 1.5850 - accuracy: 0.6475 - precision: 0.7583 - recall: 0.5235\n",
            "Epoch 3: val_loss did not improve from 1.09366\n",
            "672/672 [==============================] - 94s 140ms/step - loss: 1.5850 - accuracy: 0.6475 - precision: 0.7583 - recall: 0.5235 - val_loss: 1.2368 - val_accuracy: 0.5558 - val_precision: 0.6555 - val_recall: 0.4540\n",
            "Epoch 4/8\n",
            "672/672 [==============================] - ETA: 0s - loss: 1.5588 - accuracy: 0.6478 - precision: 0.7580 - recall: 0.5279\n",
            "Epoch 4: val_loss did not improve from 1.09366\n",
            "672/672 [==============================] - 95s 141ms/step - loss: 1.5588 - accuracy: 0.6478 - precision: 0.7580 - recall: 0.5279 - val_loss: 1.1388 - val_accuracy: 0.5806 - val_precision: 0.6885 - val_recall: 0.4690\n",
            "Epoch 5/8\n",
            "672/672 [==============================] - ETA: 0s - loss: 1.5300 - accuracy: 0.6584 - precision: 0.7648 - recall: 0.5384\n",
            "Epoch 5: val_loss improved from 1.09366 to 1.03538, saving model to best_weights.h5\n",
            "672/672 [==============================] - 95s 141ms/step - loss: 1.5300 - accuracy: 0.6584 - precision: 0.7648 - recall: 0.5384 - val_loss: 1.0354 - val_accuracy: 0.6222 - val_precision: 0.7182 - val_recall: 0.5276\n",
            "Epoch 6/8\n",
            "672/672 [==============================] - ETA: 0s - loss: 1.4533 - accuracy: 0.6747 - precision: 0.7709 - recall: 0.5670\n",
            "Epoch 6: val_loss did not improve from 1.03538\n",
            "672/672 [==============================] - 95s 141ms/step - loss: 1.4533 - accuracy: 0.6747 - precision: 0.7709 - recall: 0.5670 - val_loss: 1.0382 - val_accuracy: 0.6205 - val_precision: 0.7152 - val_recall: 0.5318\n",
            "Epoch 7/8\n",
            "672/672 [==============================] - ETA: 0s - loss: 1.4420 - accuracy: 0.6763 - precision: 0.7733 - recall: 0.5702\n",
            "Epoch 7: val_loss did not improve from 1.03538\n",
            "672/672 [==============================] - 95s 141ms/step - loss: 1.4420 - accuracy: 0.6763 - precision: 0.7733 - recall: 0.5702 - val_loss: 1.0613 - val_accuracy: 0.6205 - val_precision: 0.7005 - val_recall: 0.5331\n",
            "Epoch 8/8\n",
            "672/672 [==============================] - ETA: 0s - loss: 1.4645 - accuracy: 0.6707 - precision: 0.7668 - recall: 0.5658\n",
            "Epoch 8: val_loss did not improve from 1.03538\n",
            "672/672 [==============================] - 94s 141ms/step - loss: 1.4645 - accuracy: 0.6707 - precision: 0.7668 - recall: 0.5658 - val_loss: 1.0802 - val_accuracy: 0.6108 - val_precision: 0.6935 - val_recall: 0.5307\n"
          ]
        }
      ]
    },
    {
      "cell_type": "code",
      "source": [
        "from tensorflow.keras.applications import EfficientNetB2\n",
        "\n",
        "backbone = EfficientNetB2(\n",
        "    input_shape=(96, 96, 3),\n",
        "    include_top=False\n",
        ")\n",
        "\n",
        "model = tf.keras.Sequential([\n",
        "    backbone,\n",
        "    tf.keras.layers.GlobalAveragePooling2D(),\n",
        "    tf.keras.layers.Dropout(0.3),\n",
        "    tf.keras.layers.Dense(128, activation='relu'),\n",
        "    tf.keras.layers.Dense(7, activation='softmax')\n",
        "])\n",
        "\n",
        "model.compile(\n",
        "    optimizer=tf.keras.optimizers.Adam(learning_rate=0.001, beta_1=0.9, beta_2=0.999, epsilon=1e-07),\n",
        "    loss = 'categorical_crossentropy',\n",
        "    metrics=['accuracy' , tf.keras.metrics.Precision(name='precision'),tf.keras.metrics.Recall(name='recall')]\n",
        ")"
      ],
      "metadata": {
        "id": "sVS8Kn2tDC91"
      },
      "execution_count": 24,
      "outputs": []
    },
    {
      "cell_type": "code",
      "source": [
        "model.load_weights(\"best_weights.h5\")"
      ],
      "metadata": {
        "id": "06d5CyTHGnST"
      },
      "execution_count": 25,
      "outputs": []
    },
    {
      "cell_type": "code",
      "source": [
        "# Create a Dataset Object for 'Testing' Set just the way we did for Training and Validation\n",
        "test_image_paths = list(test_path.glob(\"*/*\"))\n",
        "test_image_paths = list(map(lambda x : str(x) , test_image_paths))\n",
        "test_labels = list(map(lambda x : get_label(x) , test_image_paths))\n",
        "\n",
        "test_labels = Le.transform(test_labels)\n",
        "test_labels = tf.keras.utils.to_categorical(test_labels)\n",
        "\n",
        "test_image_paths = tf.convert_to_tensor(test_image_paths)\n",
        "test_labels = tf.convert_to_tensor(test_labels)\n",
        "\n",
        "def decode_image(image , label):\n",
        "    image = tf.io.read_file(image)\n",
        "    image = tf.io.decode_jpeg(image , channels = 3)\n",
        "    image = tf.image.resize(image , [96 , 96] , method=\"bilinear\")\n",
        "    return image , label\n",
        "\n",
        "test_dataset = (\n",
        "     tf.data.Dataset\n",
        "    .from_tensor_slices((test_image_paths, test_labels))\n",
        "    .map(decode_image)\n",
        "    .batch(BATCH_SIZE)\n",
        ")"
      ],
      "metadata": {
        "id": "ZCj5_Nb8HMzI"
      },
      "execution_count": 26,
      "outputs": []
    },
    {
      "cell_type": "code",
      "source": [
        "# Verify Test Dataset Object\n",
        "image , label = next(iter(test_dataset))\n",
        "print(image.shape)\n",
        "print(label.shape)"
      ],
      "metadata": {
        "colab": {
          "base_uri": "https://localhost:8080/"
        },
        "id": "XXpQJgjJHVV8",
        "outputId": "fef177f9-cc18-442b-a38a-bbdadc3e1320"
      },
      "execution_count": 27,
      "outputs": [
        {
          "output_type": "stream",
          "name": "stdout",
          "text": [
            "(32, 96, 96, 3)\n",
            "(32, 7)\n"
          ]
        }
      ]
    },
    {
      "cell_type": "code",
      "source": [
        "# View a sample Validation Image\n",
        "print(Le.inverse_transform(np.argmax(label , axis = 1))[0])\n",
        "plt.imshow((image[0].numpy()/255).reshape(96 , 96 ,3))"
      ],
      "metadata": {
        "colab": {
          "base_uri": "https://localhost:8080/",
          "height": 303
        },
        "id": "KP8pecleJ4G2",
        "outputId": "4fa04836-54a9-4a97-b5e2-217b4dc8f907"
      },
      "execution_count": 28,
      "outputs": [
        {
          "output_type": "stream",
          "name": "stdout",
          "text": [
            "angry\n"
          ]
        },
        {
          "output_type": "execute_result",
          "data": {
            "text/plain": [
              "<matplotlib.image.AxesImage at 0x7efcacd1ead0>"
            ]
          },
          "metadata": {},
          "execution_count": 28
        },
        {
          "output_type": "display_data",
          "data": {
            "text/plain": [
              "<Figure size 432x288 with 1 Axes>"
            ],
            "image/png": "[encoded data removed]"
          },
          "metadata": {
            "needs_background": "light"
          }
        }
      ]
    },
    {
      "cell_type": "code",
      "source": [
        "# Evaluating the loaded model\n",
        "loss, acc, prec, rec = model.evaluate(test_dataset)\n",
        "\n",
        "print(\" Testing Acc : \" , acc)\n",
        "print(\" Testing Precision \" , prec)\n",
        "print(\" Testing Recall \" , rec)"
      ],
      "metadata": {
        "colab": {
          "base_uri": "https://localhost:8080/"
        },
        "id": "tSkZ_mGPKR8S",
        "outputId": "d6b143c1-1158-4c23-a48f-935280f16f7f"
      },
      "execution_count": 29,
      "outputs": [
        {
          "output_type": "stream",
          "name": "stdout",
          "text": [
            "225/225 [==============================] - 12s 32ms/step - loss: 1.0252 - accuracy: 0.6255 - precision: 0.7185 - recall: 0.5372\n",
            " Testing Acc :  0.6255224347114563\n",
            " Testing Precision  0.7184646725654602\n",
            " Testing Recall  0.5371969938278198\n"
          ]
        }
      ]
    },
    {
      "cell_type": "code",
      "source": [
        "# Save Model\n",
        "model.save(\"FacialExpressionModel.h5\")"
      ],
      "metadata": {
        "id": "0nyJt-5bKcBv"
      },
      "execution_count": 30,
      "outputs": []
    },
    {
      "cell_type": "code",
      "source": [
        "# Save Label Encoder \n",
        "import pickle\n",
        "\n",
        "def save_object(obj , name):\n",
        "    pickle_obj = open(f\"{name}.pck\",\"wb\")\n",
        "    pickle.dump(obj, pickle_obj)\n",
        "    pickle_obj.close()\n",
        "  "
      ],
      "metadata": {
        "id": "QIFEriKCM9qe"
      },
      "execution_count": 31,
      "outputs": []
    },
    {
      "cell_type": "code",
      "source": [
        "save_object(Le, \"LabelEncoder\")"
      ],
      "metadata": {
        "id": "O8rjLThrNEUc"
      },
      "execution_count": 32,
      "outputs": []
    },
    {
      "cell_type": "code",
      "source": [
        ""
      ],
      "metadata": {
        "id": "pGJxXFbONLMC"
      },
      "execution_count": null,
      "outputs": []
    }
  ]
}